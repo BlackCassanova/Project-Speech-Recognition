{
 "cells": [
  {
   "cell_type": "code",
   "execution_count": 1,
   "metadata": {},
   "outputs": [],
   "source": [
    "import speech_recognition as sr\n"
   ]
  },
  {
   "cell_type": "code",
   "execution_count": 3,
   "metadata": {},
   "outputs": [
    {
     "name": "stdout",
     "output_type": "stream",
     "text": [
      "Provide File as extension: DROELOE - Open Blinds [Official Audio].wav\n",
      "Check internet Connectivity\n"
     ]
    }
   ],
   "source": [
    "recog = sr.Recognizer()\n",
    "filename = input (\"Provide File as extension: \")\n",
    "with sr.AudioFile(filename) as source:\n",
    "    audiofile = recog.listen(source)\n",
    "    try:\n",
    "        text =  recog.recognize_google(audiofile)\n",
    "        print(text)\n",
    "    except:\n",
    "        print (\"Check internet Connectivity\")"
   ]
  },
  {
   "cell_type": "code",
   "execution_count": null,
   "metadata": {},
   "outputs": [],
   "source": []
  }
 ],
 "metadata": {
  "kernelspec": {
   "display_name": "Python 3",
   "language": "python",
   "name": "python3"
  },
  "language_info": {
   "codemirror_mode": {
    "name": "ipython",
    "version": 3
   },
   "file_extension": ".py",
   "mimetype": "text/x-python",
   "name": "python",
   "nbconvert_exporter": "python",
   "pygments_lexer": "ipython3",
   "version": "3.7.4"
  }
 },
 "nbformat": 4,
 "nbformat_minor": 2
}
